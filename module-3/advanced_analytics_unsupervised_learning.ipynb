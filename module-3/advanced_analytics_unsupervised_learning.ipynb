{
 "cells": [
  {
   "cell_type": "markdown",
   "id": "3c49932c",
   "metadata": {},
   "source": [
    "# Unsupervised Learning\n",
    "\n",
    "- Dimensionality reduction\n",
    "\n",
    "- Clustering\n",
    "\n",
    "- Others: Visualization, Finding Association Rules, Anomaly Detection\n",
    "\n",
    "\n",
    "![Image](./img/clustering.png)"
   ]
  },
  {
   "cell_type": "code",
   "execution_count": null,
   "id": "5bb452fd",
   "metadata": {},
   "outputs": [],
   "source": [
    "# imports\n",
    "\n",
    "import numpy as np\n",
    "import pandas as pd\n",
    "import matplotlib.pyplot as plt\n",
    "\n",
    "from sklearn.datasets import load_digits\n",
    "\n",
    "from sklearn.preprocessing import StandardScaler\n",
    "\n",
    "from sklearn.decomposition import PCA\n",
    "import umap   # $pip install umap-learn\n",
    "\n",
    "from sklearn.cluster import KMeans\n",
    "from sklearn.cluster import DBSCAN\n",
    "from yellowbrick.cluster import KElbowVisualizer   # $pip install yellowbrick\n",
    "\n",
    "from sklearn.metrics import mean_squared_error"
   ]
  },
  {
   "cell_type": "markdown",
   "id": "81315df3",
   "metadata": {},
   "source": [
    "---"
   ]
  },
  {
   "cell_type": "markdown",
   "id": "ab54eef1",
   "metadata": {},
   "source": [
    "# Dimensionality reduction (a.k.a. Projection)\n",
    "\n",
    "- Principal Component Analyses (PCA)\n",
    "\n",
    "- Uniform Manifold Approximation and Projection (UMAP)\n",
    "\n",
    "![Image](./img/projection.JPG)"
   ]
  },
  {
   "cell_type": "markdown",
   "id": "0728359c",
   "metadata": {},
   "source": [
    "---"
   ]
  },
  {
   "cell_type": "markdown",
   "id": "d9b51cda",
   "metadata": {},
   "source": [
    "### [Principal Component Analyses (PCA)](https://scikit-learn.org/stable/modules/generated/sklearn.decomposition.PCA.html)\n",
    "\n",
    "- Good performance\n",
    "\n",
    "- Less sparsity"
   ]
  },
  {
   "cell_type": "code",
   "execution_count": null,
   "id": "4f5e2b03",
   "metadata": {},
   "outputs": [],
   "source": [
    "# The most fancy dataset!!! \n",
    "\n",
    "boson = pd.read_csv('./datasets/higgs-boson.csv')\n",
    "boson['Label'] = boson['Label'].map({'s': 1, 'b': 0})\n",
    "boson.info()"
   ]
  },
  {
   "cell_type": "code",
   "execution_count": null,
   "id": "4da2a3ed",
   "metadata": {},
   "outputs": [],
   "source": [
    "# 31-D dataset\n",
    "\n",
    "boson"
   ]
  },
  {
   "cell_type": "code",
   "execution_count": null,
   "id": "da91d840",
   "metadata": {},
   "outputs": [],
   "source": [
    "boson['Label'].unique()"
   ]
  },
  {
   "cell_type": "markdown",
   "id": "4b2296c3",
   "metadata": {},
   "source": [
    "#### Maximum amount of variation\n",
    "\n",
    "![Image](./img/max_variance.JPG)"
   ]
  },
  {
   "cell_type": "code",
   "execution_count": null,
   "id": "9a40d47e",
   "metadata": {},
   "outputs": [],
   "source": [
    "# Scaling\n",
    "\n",
    "boson_pca = boson[[x for x in boson.columns if x != 'Label']]\n",
    "scaler = StandardScaler()\n",
    "boson_scaled_pca = scaler.fit_transform(boson_pca)\n",
    "boson_scaled_pca"
   ]
  },
  {
   "cell_type": "code",
   "execution_count": null,
   "id": "60594293",
   "metadata": {},
   "outputs": [],
   "source": [
    "# Model training\n",
    "\n",
    "pca = PCA().fit(boson_scaled_pca)"
   ]
  },
  {
   "cell_type": "code",
   "execution_count": null,
   "id": "91ea5438",
   "metadata": {},
   "outputs": [],
   "source": [
    "pca.explained_variance_ratio_"
   ]
  },
  {
   "cell_type": "code",
   "execution_count": null,
   "id": "26172196",
   "metadata": {},
   "outputs": [],
   "source": [
    "fig, ax = plt.subplots(ncols=1, nrows=1, figsize=(13,8))\n",
    "plt.plot(np.cumsum(pca.explained_variance_ratio_))\n",
    "plt.xlabel('Number of Components')\n",
    "plt.ylabel('Variance (%)')\n",
    "plt.ylim([0,1])\n",
    "plt.title('Higgs Boson Dataset Explained Variance')\n",
    "plt.show()"
   ]
  },
  {
   "cell_type": "markdown",
   "id": "80f4090d",
   "metadata": {},
   "source": [
    "#### 20 components is the optimum amount (roughly)"
   ]
  },
  {
   "cell_type": "code",
   "execution_count": null,
   "id": "7c1d1977",
   "metadata": {},
   "outputs": [],
   "source": [
    "# We build our Principal Components\n",
    "\n",
    "pca_optimum = PCA(n_components=20)\n",
    "boson_scaled_pca_optimum = pca_optimum.fit_transform(boson_scaled_pca)\n",
    "pd.DataFrame(boson_scaled_pca_optimum)"
   ]
  },
  {
   "cell_type": "markdown",
   "id": "efd6e19b",
   "metadata": {},
   "source": [
    "#### Why scaling?"
   ]
  },
  {
   "cell_type": "code",
   "execution_count": null,
   "id": "ba6ea16a",
   "metadata": {},
   "outputs": [],
   "source": [
    "pca_no_scaling = PCA().fit(boson_pca)\n",
    "pca_no_scaling.explained_variance_ratio_"
   ]
  },
  {
   "cell_type": "code",
   "execution_count": null,
   "id": "af2370c0",
   "metadata": {},
   "outputs": [],
   "source": [
    "fig, ax = plt.subplots(ncols=1, nrows=1, figsize=(13,8))\n",
    "plt.plot(np.cumsum(pca_no_scaling.explained_variance_ratio_))\n",
    "plt.xlabel('Number of Components')\n",
    "plt.ylabel('Variance (%)')\n",
    "plt.ylim([0,1])\n",
    "plt.title('Pulsar Dataset Explained Variance')\n",
    "plt.show()"
   ]
  },
  {
   "cell_type": "code",
   "execution_count": null,
   "id": "a6bf10d5",
   "metadata": {},
   "outputs": [],
   "source": [
    "np.cumsum(pca_no_scaling.explained_variance_ratio_)"
   ]
  },
  {
   "cell_type": "markdown",
   "id": "43761b5e",
   "metadata": {},
   "source": [
    "---"
   ]
  },
  {
   "cell_type": "markdown",
   "id": "9416a7cb",
   "metadata": {},
   "source": [
    "### [Uniform Manifold Approximation and Projection (UMAP)](https://pair-code.github.io/understanding-umap/)\n",
    "\n",
    "- Better preservation of the data's global structure.\n",
    "\n",
    "- More complex mathematically (black box)"
   ]
  },
  {
   "cell_type": "code",
   "execution_count": null,
   "id": "2fa6c6c2",
   "metadata": {},
   "outputs": [],
   "source": [
    "# Image data\n",
    "\n",
    "digits = load_digits()\n",
    "print(digits.data.shape)\n",
    "print(digits.images.shape)\n",
    "print(digits.target.shape)\n",
    "print(digits.target_names.shape)\n",
    "print(digits.DESCR)"
   ]
  },
  {
   "cell_type": "code",
   "execution_count": null,
   "id": "019a3b19",
   "metadata": {},
   "outputs": [],
   "source": [
    "fig, ax_array = plt.subplots(20, 20, figsize=(13,8))\n",
    "axes = ax_array.flatten()\n",
    "for i, ax in enumerate(axes):\n",
    "    ax.imshow(digits.images[i], cmap='gray_r')\n",
    "plt.setp(axes, xticks=[], yticks=[], frame_on=False)\n",
    "plt.tight_layout(h_pad=0.5, w_pad=0.01)"
   ]
  },
  {
   "cell_type": "code",
   "execution_count": null,
   "id": "ae85dadd",
   "metadata": {},
   "outputs": [],
   "source": [
    "digits_df = load_digits(as_frame=True)\n",
    "digits_df.data"
   ]
  },
  {
   "cell_type": "code",
   "execution_count": null,
   "id": "2c4badf8",
   "metadata": {},
   "outputs": [],
   "source": [
    "reducer = umap.UMAP(random_state=42, \n",
    "                    n_neighbors=15, \n",
    "                    min_dist=0,\n",
    "                    n_components=2,\n",
    "                    metric='euclidean')\n",
    "reducer.fit(digits.data)"
   ]
  },
  {
   "cell_type": "markdown",
   "id": "5acb0d18",
   "metadata": {},
   "source": [
    "#### [Hyperparameters](https://umap-learn.readthedocs.io/en/latest/parameters.html)\n",
    "\n",
    "- __n_neighbors:__ balances local versus global structure in the data. This means that low values of n_neighbors will force UMAP to concentrate on very local structure.\n",
    "\n",
    "- __min_dist:__ controls how tightly UMAP is allowed to pack points together. It, quite literally, provides the minimum distance apart that points are allowed to be in the low dimensional representation. A low value is ideal for clustering purposes.\n",
    "\n",
    "- __n_components:__ the dimensionality of the reduced dimension space we will be embedding the data into\n",
    "metric: how distance is computed in the input data space (euclidean, cosine, chebyshev...)."
   ]
  },
  {
   "cell_type": "code",
   "execution_count": null,
   "id": "458d8f8d",
   "metadata": {},
   "outputs": [],
   "source": [
    "embedding = reducer.transform(digits.data)\n",
    "\n",
    "embedding_df = pd.DataFrame(embedding)\n",
    "embedding_df"
   ]
  },
  {
   "cell_type": "code",
   "execution_count": null,
   "id": "0d697e21",
   "metadata": {},
   "outputs": [],
   "source": [
    "fig, ax = plt.subplots(ncols=1, nrows=1, figsize=(10,8))\n",
    "plt.scatter(embedding[:, 0], embedding[:, 1])\n",
    "plt.gca().set_aspect('equal', 'datalim')\n",
    "plt.title('UMAP projection of the Digits dataset', fontsize=18);"
   ]
  },
  {
   "cell_type": "code",
   "execution_count": null,
   "id": "9febd852",
   "metadata": {},
   "outputs": [],
   "source": [
    "fig, ax = plt.subplots(ncols=1, nrows=1, figsize=(13,8))\n",
    "plt.scatter(embedding[:, 0], embedding[:, 1], c=digits.target, cmap='Spectral', s=5)\n",
    "plt.gca().set_aspect('equal', 'datalim')\n",
    "plt.colorbar(boundaries=np.arange(11) - 0.5).set_ticks(np.arange(10))\n",
    "plt.title('UMAP projection of the Digits dataset', fontsize=18);"
   ]
  },
  {
   "cell_type": "markdown",
   "id": "b27d3552",
   "metadata": {},
   "source": [
    "---"
   ]
  },
  {
   "cell_type": "markdown",
   "id": "f8daabce",
   "metadata": {},
   "source": [
    "## Clustering\n",
    "\n",
    "![Image](./img/clustering_types.png)\n",
    "\n",
    "\n",
    "- __Retail Marketing:__ Retail companies often use clustering to identify groups of households that are similar to each other. The company can then send personalized advertisements or sales letters to each household based on how likely they are to respond to specific types of advertisements.\n",
    "\n",
    "- __Streaming Services:__ Streaming services often use clustering analysis to identify viewers who have similar behavior. Using these metrics, a streaming service can perform cluster analysis to identify high usage and low usage users so that they can know who they should spend most of their advertising dollars on.\n",
    "\n",
    "- __Sports Science:__ Data scientists for sports teams often use clustering to identify players that are similar to each other. They can then feed these variables into a clustering algorithm to identify players that are similar to each other so that they can have these players practice with each other and perform specific drills based on their strengths and weaknesses.\n",
    "\n",
    "- __Other Examples:__ Investment portfolio, mental health assessment, music preferences, etc."
   ]
  },
  {
   "cell_type": "markdown",
   "id": "6a83791e",
   "metadata": {},
   "source": [
    "---"
   ]
  },
  {
   "cell_type": "markdown",
   "id": "1046f1ef",
   "metadata": {},
   "source": [
    "### [K-Means](https://scikit-learn.org/stable/modules/clustering.html#k-means)\n",
    "\n",
    "- K-means clustering minimizes within-cluster variances (Inertia). We need to define _a priori_ the number of clusters."
   ]
  },
  {
   "cell_type": "code",
   "execution_count": null,
   "id": "d8c73653",
   "metadata": {},
   "outputs": [],
   "source": [
    "kmeans = KMeans(n_clusters=10, random_state=42).fit(digits.data)\n",
    "kmeans"
   ]
  },
  {
   "cell_type": "code",
   "execution_count": null,
   "id": "05d14c9d",
   "metadata": {},
   "outputs": [],
   "source": [
    "kmeans.predict(digits.data)"
   ]
  },
  {
   "cell_type": "code",
   "execution_count": null,
   "id": "cb7d0349",
   "metadata": {},
   "outputs": [],
   "source": [
    "kmeans.labels_"
   ]
  },
  {
   "cell_type": "code",
   "execution_count": null,
   "id": "45a95ede",
   "metadata": {},
   "outputs": [],
   "source": [
    "kmeans.cluster_centers_[0]"
   ]
  },
  {
   "cell_type": "code",
   "execution_count": null,
   "id": "804e6cd2",
   "metadata": {},
   "outputs": [],
   "source": [
    "check = pd.DataFrame({'Ground truth':digits.target, 'Infered Labels':kmeans.labels_})\n",
    "check.head(20)"
   ]
  },
  {
   "cell_type": "markdown",
   "id": "474f1db1",
   "metadata": {},
   "source": [
    "---"
   ]
  },
  {
   "cell_type": "code",
   "execution_count": null,
   "id": "744c6a9a",
   "metadata": {},
   "outputs": [],
   "source": [
    "kmeans_emb = KMeans(n_clusters=10, random_state=42).fit(embedding)\n",
    "kmeans_emb"
   ]
  },
  {
   "cell_type": "code",
   "execution_count": null,
   "id": "9c1c8fed",
   "metadata": {},
   "outputs": [],
   "source": [
    "kmeans_emb.predict(embedding)"
   ]
  },
  {
   "cell_type": "code",
   "execution_count": null,
   "id": "20df1cae",
   "metadata": {},
   "outputs": [],
   "source": [
    "kmeans_emb.labels_"
   ]
  },
  {
   "cell_type": "code",
   "execution_count": null,
   "id": "d4f5d194",
   "metadata": {},
   "outputs": [],
   "source": [
    "fig, ax = plt.subplots(ncols=1, nrows=1, figsize=(10,8))\n",
    "plt.scatter(embedding[:, 0], embedding[:, 1], s=5)\n",
    "plt.gca().set_aspect('equal', 'datalim')\n",
    "plt.title('Embedding projection', fontsize=18);"
   ]
  },
  {
   "cell_type": "code",
   "execution_count": null,
   "id": "b28471fe",
   "metadata": {},
   "outputs": [],
   "source": [
    "fig, ax = plt.subplots(ncols=1, nrows=1, figsize=(13,8))\n",
    "plt.scatter(embedding[:, 0], embedding[:, 1], c=kmeans_emb.labels_, cmap='Spectral', s=5)\n",
    "plt.gca().set_aspect('equal', 'datalim')\n",
    "plt.colorbar(boundaries=np.arange(kmeans.n_clusters + 1) - 0.5).set_ticks(np.arange(kmeans.n_clusters))\n",
    "plt.title('K-Means over the Digits dataset', fontsize=24);"
   ]
  },
  {
   "cell_type": "code",
   "execution_count": null,
   "id": "f7de606c",
   "metadata": {},
   "outputs": [],
   "source": [
    "check_emb = pd.DataFrame({'Ground truth':digits.target, 'Infered Labels':kmeans_emb.labels_})\n",
    "check_emb.head(20)"
   ]
  },
  {
   "cell_type": "markdown",
   "id": "cea1cc53",
   "metadata": {},
   "source": [
    "#### [Elbow Method](https://www.scikit-yb.org/en/latest/api/cluster/elbow.html)"
   ]
  },
  {
   "cell_type": "code",
   "execution_count": null,
   "id": "769f176f",
   "metadata": {},
   "outputs": [],
   "source": [
    "visualizer = KElbowVisualizer(kmeans, k=(6,14))\n",
    "\n",
    "visualizer.fit(embedding)\n",
    "visualizer.show();"
   ]
  },
  {
   "cell_type": "markdown",
   "id": "873caddb",
   "metadata": {},
   "source": [
    "---"
   ]
  },
  {
   "cell_type": "markdown",
   "id": "be0183dc",
   "metadata": {},
   "source": [
    "### [DBSCAN](https://scikit-learn.org/stable/modules/clustering.html#dbscan)\n",
    "\n",
    "- Define clusters as areas of high density separated by areas of low density"
   ]
  },
  {
   "cell_type": "code",
   "execution_count": null,
   "id": "c6251495",
   "metadata": {},
   "outputs": [],
   "source": [
    "dbscan_c = DBSCAN(eps=1.5,\n",
    "                  min_samples=25).fit(embedding)\n",
    "\n",
    "dbscan_c"
   ]
  },
  {
   "cell_type": "code",
   "execution_count": null,
   "id": "887a0945",
   "metadata": {},
   "outputs": [],
   "source": [
    "fig, ax = plt.subplots(ncols=1, nrows=1, figsize=(13,8))\n",
    "plt.scatter(embedding[:, 0], embedding[:, 1], c=dbscan_c.labels_, cmap='Spectral', s=5)\n",
    "plt.gca().set_aspect('equal', 'datalim')\n",
    "plt.colorbar(boundaries=np.arange(len(np.unique(dbscan_c.labels_)) + 1) - 0.5).set_ticks(np.arange(len(np.unique(dbscan_c.labels_))))\n",
    "plt.title('DBSCAN over the Digits dataset', fontsize=24);"
   ]
  },
  {
   "cell_type": "code",
   "execution_count": null,
   "id": "4e6d300c",
   "metadata": {},
   "outputs": [],
   "source": [
    "check_emb_dbscan = pd.DataFrame({'Ground truth':digits.target, 'Infered Labels':dbscan_c.labels_})\n",
    "check_emb_dbscan.head(20)"
   ]
  },
  {
   "cell_type": "markdown",
   "id": "9484bb99",
   "metadata": {},
   "source": [
    "---"
   ]
  }
 ],
 "metadata": {
  "kernelspec": {
   "display_name": "Python [conda env:.conda-sklearn-env]",
   "language": "python",
   "name": "conda-env-.conda-sklearn-env-py"
  },
  "language_info": {
   "codemirror_mode": {
    "name": "ipython",
    "version": 3
   },
   "file_extension": ".py",
   "mimetype": "text/x-python",
   "name": "python",
   "nbconvert_exporter": "python",
   "pygments_lexer": "ipython3",
   "version": "3.10.2"
  }
 },
 "nbformat": 4,
 "nbformat_minor": 5
}
